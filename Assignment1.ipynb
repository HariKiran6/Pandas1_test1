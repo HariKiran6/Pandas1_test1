{
 "cells": [
  {
   "cell_type": "code",
   "execution_count": 3,
   "metadata": {},
   "outputs": [],
   "source": [
    "# How-to-count-distance-to-the-previous-zero For each value, \n",
    "# count the difference of the distance from the previous zero (or the start of the Series, whichever is closer) and \n",
    "# if there are no previous zeros,print the position"
   ]
  },
  {
   "cell_type": "code",
   "execution_count": 4,
   "metadata": {},
   "outputs": [],
   "source": [
    "import pandas as pd\n",
    "import numpy as np"
   ]
  },
  {
   "cell_type": "code",
   "execution_count": 5,
   "metadata": {},
   "outputs": [],
   "source": [
    "df = pd.DataFrame({'X': [7, 2, 0, 3, 4, 2, 5, 0, 3, 4]})"
   ]
  },
  {
   "cell_type": "code",
   "execution_count": 6,
   "metadata": {},
   "outputs": [],
   "source": [
    "x = (df['X'] != 0).cumsum()\n",
    "y = x != x.shift()\n",
    "df['Y'] = y.groupby((y != y.shift()).cumsum()).cumsum()"
   ]
  },
  {
   "cell_type": "code",
   "execution_count": 7,
   "metadata": {},
   "outputs": [
    {
     "data": {
      "text/html": [
       "<div>\n",
       "<style scoped>\n",
       "    .dataframe tbody tr th:only-of-type {\n",
       "        vertical-align: middle;\n",
       "    }\n",
       "\n",
       "    .dataframe tbody tr th {\n",
       "        vertical-align: top;\n",
       "    }\n",
       "\n",
       "    .dataframe thead th {\n",
       "        text-align: right;\n",
       "    }\n",
       "</style>\n",
       "<table border=\"1\" class=\"dataframe\">\n",
       "  <thead>\n",
       "    <tr style=\"text-align: right;\">\n",
       "      <th></th>\n",
       "      <th>X</th>\n",
       "      <th>Y</th>\n",
       "    </tr>\n",
       "  </thead>\n",
       "  <tbody>\n",
       "    <tr>\n",
       "      <th>0</th>\n",
       "      <td>7</td>\n",
       "      <td>1.0</td>\n",
       "    </tr>\n",
       "    <tr>\n",
       "      <th>1</th>\n",
       "      <td>2</td>\n",
       "      <td>2.0</td>\n",
       "    </tr>\n",
       "    <tr>\n",
       "      <th>2</th>\n",
       "      <td>0</td>\n",
       "      <td>0.0</td>\n",
       "    </tr>\n",
       "    <tr>\n",
       "      <th>3</th>\n",
       "      <td>3</td>\n",
       "      <td>1.0</td>\n",
       "    </tr>\n",
       "    <tr>\n",
       "      <th>4</th>\n",
       "      <td>4</td>\n",
       "      <td>2.0</td>\n",
       "    </tr>\n",
       "    <tr>\n",
       "      <th>5</th>\n",
       "      <td>2</td>\n",
       "      <td>3.0</td>\n",
       "    </tr>\n",
       "    <tr>\n",
       "      <th>6</th>\n",
       "      <td>5</td>\n",
       "      <td>4.0</td>\n",
       "    </tr>\n",
       "    <tr>\n",
       "      <th>7</th>\n",
       "      <td>0</td>\n",
       "      <td>0.0</td>\n",
       "    </tr>\n",
       "    <tr>\n",
       "      <th>8</th>\n",
       "      <td>3</td>\n",
       "      <td>1.0</td>\n",
       "    </tr>\n",
       "    <tr>\n",
       "      <th>9</th>\n",
       "      <td>4</td>\n",
       "      <td>2.0</td>\n",
       "    </tr>\n",
       "  </tbody>\n",
       "</table>\n",
       "</div>"
      ],
      "text/plain": [
       "   X    Y\n",
       "0  7  1.0\n",
       "1  2  2.0\n",
       "2  0  0.0\n",
       "3  3  1.0\n",
       "4  4  2.0\n",
       "5  2  3.0\n",
       "6  5  4.0\n",
       "7  0  0.0\n",
       "8  3  1.0\n",
       "9  4  2.0"
      ]
     },
     "execution_count": 7,
     "metadata": {},
     "output_type": "execute_result"
    }
   ],
   "source": [
    "df"
   ]
  },
  {
   "cell_type": "code",
   "execution_count": 8,
   "metadata": {},
   "outputs": [],
   "source": [
    "datetimeindex = pd.date_range(start='2015-01-01', end='2015-12-31')\n",
    "df1 = pd.Series(np.random.rand(len(datetimeindex)),index=datetimeindex)"
   ]
  },
  {
   "cell_type": "code",
   "execution_count": 9,
   "metadata": {},
   "outputs": [
    {
     "data": {
      "text/plain": [
       "2015-01-01    0.565258\n",
       "2015-01-02    0.874863\n",
       "2015-01-03    0.254929\n",
       "2015-01-04    0.674528\n",
       "2015-01-05    0.930119\n",
       "2015-01-06    0.012329\n",
       "2015-01-07    0.822747\n",
       "2015-01-08    0.232422\n",
       "2015-01-09    0.205774\n",
       "2015-01-10    0.076234\n",
       "2015-01-11    0.981815\n",
       "2015-01-12    0.492613\n",
       "2015-01-13    0.732273\n",
       "2015-01-14    0.942747\n",
       "2015-01-15    0.595119\n",
       "2015-01-16    0.888022\n",
       "2015-01-17    0.587719\n",
       "2015-01-18    0.294401\n",
       "2015-01-19    0.344465\n",
       "2015-01-20    0.804789\n",
       "2015-01-21    0.588097\n",
       "2015-01-22    0.767608\n",
       "2015-01-23    0.046126\n",
       "2015-01-24    0.777472\n",
       "2015-01-25    0.773226\n",
       "2015-01-26    0.339321\n",
       "2015-01-27    0.698814\n",
       "2015-01-28    0.080751\n",
       "2015-01-29    0.869731\n",
       "2015-01-30    0.938030\n",
       "                ...   \n",
       "2015-12-02    0.513258\n",
       "2015-12-03    0.102601\n",
       "2015-12-04    0.374705\n",
       "2015-12-05    0.292352\n",
       "2015-12-06    0.961429\n",
       "2015-12-07    0.636340\n",
       "2015-12-08    0.032436\n",
       "2015-12-09    0.732729\n",
       "2015-12-10    0.449695\n",
       "2015-12-11    0.242303\n",
       "2015-12-12    0.266411\n",
       "2015-12-13    0.456474\n",
       "2015-12-14    0.162251\n",
       "2015-12-15    0.876152\n",
       "2015-12-16    0.553788\n",
       "2015-12-17    0.623232\n",
       "2015-12-18    0.927536\n",
       "2015-12-19    0.496230\n",
       "2015-12-20    0.067108\n",
       "2015-12-21    0.789072\n",
       "2015-12-22    0.321030\n",
       "2015-12-23    0.332700\n",
       "2015-12-24    0.064769\n",
       "2015-12-25    0.102999\n",
       "2015-12-26    0.285025\n",
       "2015-12-27    0.213656\n",
       "2015-12-28    0.496054\n",
       "2015-12-29    0.780511\n",
       "2015-12-30    0.401123\n",
       "2015-12-31    0.532009\n",
       "Freq: D, Length: 365, dtype: float64"
      ]
     },
     "execution_count": 9,
     "metadata": {},
     "output_type": "execute_result"
    }
   ],
   "source": [
    "df1"
   ]
  },
  {
   "cell_type": "code",
   "execution_count": 10,
   "metadata": {},
   "outputs": [
    {
     "data": {
      "text/plain": [
       "28.611509769625755"
      ]
     },
     "execution_count": 10,
     "metadata": {},
     "output_type": "execute_result"
    }
   ],
   "source": [
    "df1[datetimeindex.weekday_name == 'Wednesday'].sum()"
   ]
  },
  {
   "cell_type": "code",
   "execution_count": 11,
   "metadata": {},
   "outputs": [
    {
     "data": {
      "text/plain": [
       "2015-01-31    0.574069\n",
       "2015-02-28    0.472046\n",
       "2015-03-31    0.466097\n",
       "2015-04-30    0.519354\n",
       "2015-05-31    0.512218\n",
       "2015-06-30    0.573719\n",
       "2015-07-31    0.487334\n",
       "2015-08-31    0.475498\n",
       "2015-09-30    0.501638\n",
       "2015-10-31    0.507821\n",
       "2015-11-30    0.577045\n",
       "2015-12-31    0.452216\n",
       "Freq: M, dtype: float64"
      ]
     },
     "execution_count": 11,
     "metadata": {},
     "output_type": "execute_result"
    }
   ],
   "source": [
    "df1.groupby(pd.Grouper(freq='M')).mean()"
   ]
  },
  {
   "cell_type": "code",
   "execution_count": 12,
   "metadata": {},
   "outputs": [
    {
     "data": {
      "text/plain": [
       "2015-01-31    0.981815\n",
       "2015-05-31    0.985868\n",
       "2015-09-30    0.997077\n",
       "2016-01-31    0.961429\n",
       "dtype: float64"
      ]
     },
     "execution_count": 12,
     "metadata": {},
     "output_type": "execute_result"
    }
   ],
   "source": [
    "df1.groupby(pd.Grouper(freq='4M')).max()"
   ]
  },
  {
   "cell_type": "code",
   "execution_count": null,
   "metadata": {},
   "outputs": [],
   "source": []
  },
  {
   "cell_type": "code",
   "execution_count": null,
   "metadata": {},
   "outputs": [],
   "source": []
  },
  {
   "cell_type": "code",
   "execution_count": null,
   "metadata": {},
   "outputs": [],
   "source": []
  }
 ],
 "metadata": {
  "kernelspec": {
   "display_name": "Python 3",
   "language": "python",
   "name": "python3"
  },
  "language_info": {
   "codemirror_mode": {
    "name": "ipython",
    "version": 3
   },
   "file_extension": ".py",
   "mimetype": "text/x-python",
   "name": "python",
   "nbconvert_exporter": "python",
   "pygments_lexer": "ipython3",
   "version": "3.7.1"
  }
 },
 "nbformat": 4,
 "nbformat_minor": 2
}
